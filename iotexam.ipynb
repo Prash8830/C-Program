{
 "cells": [
  {
   "cell_type": "markdown",
   "metadata": {},
   "source": [
    "<h1 style='color: gold; text-align: center; font-family: cursive;font-size: 30px;'>IOT Practical Exam</h1>"
   ]
  },
  {
   "cell_type": "markdown",
   "metadata": {},
   "source": [
    "<img src=\"https://docs.microsoft.com/en-us/windows/iot-core/media/pinmappingsrpi/rp2_pinout.png\" alt=\"Girl in a jacket\" width=\"1200\" height=\"500\">\n"
   ]
  },
  {
   "cell_type": "markdown",
   "metadata": {},
   "source": [
    "<h1 style='color: rgb(77, 229, 240); text-align: left; font-family: cursive;font-size: 20px;'>Program for Temprature and Humidity</h1>"
   ]
  },
  {
   "cell_type": "code",
   "execution_count": null,
   "metadata": {},
   "outputs": [],
   "source": [
    "#vcc data ground\n",
    "import RPi.GPIO as GPIO\n",
    "import Adafruit_DHT\n",
    "\n",
    "GPIO.setmode(GPIO.BOARD)\n",
    "GPIO.setup(10,OUT)\n",
    "\n",
    "while True:\n",
    "\n",
    "    hum, temp = Adafruit_DHT.read_retry(11,4)\n",
    "    print(\"Humidity: \",hum)\n",
    "    print(\"Temprature: \",temp)\n",
    "    if(temp<=28.0)\n",
    "        GPIO.output(10,True)\n",
    "    else\n",
    "        GPIO.output(6,True)    "
   ]
  },
  {
   "cell_type": "markdown",
   "metadata": {},
   "source": [
    "<h1 style='color: rgb(77, 229, 240); text-align: left; font-family: cursive;font-size: 20px;'>Program for image capture</h1>"
   ]
  },
  {
   "cell_type": "code",
   "execution_count": null,
   "metadata": {},
   "outputs": [],
   "source": [
    "sudo raspi-config\n",
    "go to interfacing options\n",
    "go to camera enter press yes\n",
    "press finish"
   ]
  },
  {
   "cell_type": "code",
   "execution_count": null,
   "metadata": {},
   "outputs": [],
   "source": [
    "from picamera import PiCamera\n",
    "from time import sleep\n",
    "\n",
    "camera = PiCamera()\n",
    "camera.start_preview()\n",
    "sleep(5)\n",
    "camera.capture('/home/pi/Desktop/new.jpg')\n",
    "camera.stop_preview()"
   ]
  },
  {
   "cell_type": "markdown",
   "metadata": {},
   "source": [
    "<h1 style='color: rgb(77, 229, 240); text-align: left; font-family: cursive;font-size: 20px;'>Cpu frequency governor</h1>"
   ]
  },
  {
   "cell_type": "code",
   "execution_count": null,
   "metadata": {},
   "outputs": [],
   "source": [
    "go to lx terminal\n",
    "type: cat/sys/devices/system/cpu/cpu0/cpufreq/scaling_cur_freq\n",
    "sudo nano/boot/config.txt\n",
    "uncomment arm_freq change to 800MHz or 1.1GHz\n",
    "ctrl + O\n",
    "reboot raspberry pi\n",
    "sudo reboot \n",
    "again check cpu frequency\n"
   ]
  },
  {
   "cell_type": "markdown",
   "metadata": {},
   "source": [
    "<h1 style='color: rgb(77, 229, 240); text-align: left; font-family: cursive;font-size: 20px;'>led blinking</h1>"
   ]
  },
  {
   "cell_type": "code",
   "execution_count": null,
   "metadata": {},
   "outputs": [],
   "source": [
    "void setup()\n",
    "{\n",
    "    pinMode(8,OUTPUT);\n",
    "}\n",
    "void loop()\n",
    "{\n",
    "    digitalWrite(8,HIGH);\n",
    "    delay(1000);\n",
    "    digitalWrite(8,LOW);\n",
    "    delay(1000);\n",
    "}"
   ]
  },
  {
   "cell_type": "markdown",
   "metadata": {},
   "source": [
    "<h1 style='color: rgb(77, 229, 240); text-align: left; font-family: cursive;font-size: 20px;'>traffic light</h1>"
   ]
  },
  {
   "cell_type": "code",
   "execution_count": null,
   "metadata": {},
   "outputs": [],
   "source": [
    "void setup()\n",
    "{\n",
    "    pinMode(1,OUTPUT);\n",
    "    pinMode(2,OUTPUT);\n",
    "    pinMode(3,OUTPUT);\n",
    "}\n",
    "void loop()\n",
    "{\n",
    "    digitalWrite(1,HIGH);\n",
    "    delay(1000);\n",
    "    digitalWrite(1,LOW);\n",
    "    digitalWrite(2,HIGH);\n",
    "    delay(1000);\n",
    "    digitalWrite(2,LOW);\n",
    "    digitalWrite(3,HIGH);\n",
    "    delay(1000);\n",
    "    digitalWrite(3,LOW);\n",
    "}"
   ]
  },
  {
   "cell_type": "markdown",
   "metadata": {},
   "source": [
    "<h1 style='color: rgb(77, 229, 240); text-align: left; font-family: cursive;font-size: 20px;'>4) IR Sensor</h1>"
   ]
  },
  {
   "cell_type": "code",
   "execution_count": null,
   "metadata": {},
   "outputs": [],
   "source": [
    "// data ground vcc\n",
    "void setup()\n",
    "{\n",
    "    pinMode(2,INPUT);\n",
    "    pinMode(1,OUTPUT);\n",
    "    Serial.begin(9600);\n",
    "}\n",
    "void loop()\n",
    "{\n",
    "    bool object = digitalRead(2);\n",
    "    Serial.println(object);\n",
    "    if(!object){\n",
    "        digitalWrite(1,HIGH);\n",
    "        delay(1000);\n",
    "    }\n",
    "    digitalWrite(1,LOW);\n",
    "}"
   ]
  },
  {
   "cell_type": "markdown",
   "metadata": {},
   "source": [
    "<h1 style='color: rgb(77, 229, 240); text-align: left; font-family: cursive;font-size: 20px;'>ldr sensor</h1>"
   ]
  },
  {
   "cell_type": "code",
   "execution_count": null,
   "metadata": {},
   "outputs": [],
   "source": [
    "// ao do ground vcc\n",
    "void setup()\n",
    "{\n",
    "    pinMode(1,OUTPUT);\n",
    "    pinMode(A0,INPUT);\n",
    "    Serial.begin(9600);\n",
    "}\n",
    "void loop()\n",
    "{\n",
    "    int light = analogRead(A0);\n",
    "    Serial.println(light);\n",
    "    if(light>600){\n",
    "        digitalWrite(1,HIGH);\n",
    "        delay(1000);\n",
    "    }\n",
    "    digitalWrite(1,LOW);\n",
    "}"
   ]
  },
  {
   "cell_type": "markdown",
   "metadata": {},
   "source": [
    "<h1 style='color: rgb(77, 229, 240); text-align: left; font-family: cursive;font-size: 20px;'>mq2</h1>"
   ]
  },
  {
   "cell_type": "code",
   "execution_count": null,
   "metadata": {},
   "outputs": [],
   "source": [
    "//gnd lo ao vcc\n",
    "void setup()\n",
    "{\n",
    "    pinMode(1,OUTPUT);\n",
    "    pinMode(2,OUTPUT);\n",
    "    pinMode(A1,INPUT);\n",
    "    Serial.begin(9600);\n",
    "}\n",
    "void loop()\n",
    "{\n",
    "    int smoke = analogRead(A1);\n",
    "    Serial.println(smoke);\n",
    "    if(smoke>180)\n",
    "    {\n",
    "        digitalWrite(1,HIGH);\n",
    "        digitalWrite(2,HIGH);\n",
    "        delay(1000);\n",
    "    }\n",
    "    digitalWrite(1,LOW);\n",
    "    digitalWrite(2,LOW);\n",
    "}"
   ]
  }
 ],
 "metadata": {
  "language_info": {
   "name": "python"
  },
  "orig_nbformat": 4
 },
 "nbformat": 4,
 "nbformat_minor": 2
}
